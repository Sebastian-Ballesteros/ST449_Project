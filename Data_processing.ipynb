{
 "cells": [
  {
   "cell_type": "markdown",
   "metadata": {},
   "source": [
    "Based on paper: https://d-nb.info/1248317343/34"
   ]
  },
  {
   "cell_type": "markdown",
   "metadata": {},
   "source": [
    "## Data Scrapping"
   ]
  },
  {
   "cell_type": "markdown",
   "metadata": {},
   "source": [
    "### 1. Output Gap Data extraction\n",
    "\n",
    "First I got the quarterly GDP for the period [Office for National Statistics]:\n",
    "https://www.ons.gov.uk/economy/grossdomesticproductgdp/timeseries/ybha/qna\n",
    "\n",
    "I got the yearly output gap [Office for Budget Responsibility (OBR)]\n",
    "https://obr.uk/public-finances-databank-2024-25/\n",
    "\n",
    "Using the quarterly estimates developed [OBR: Output gap measurement: judgement and uncertainty] I replicated the shape of the quarterly output gaps in %.\n",
    "https://obr.uk/docs/dlm_uploads/WorkingPaperNo5.pdf"
   ]
  },
  {
   "cell_type": "code",
   "execution_count": 2,
   "metadata": {},
   "outputs": [
    {
     "name": "stdout",
     "output_type": "stream",
     "text": [
      "   GDP_Real (m£)  GDP_Pot (m£)  Output_gap (%) Quarter\n",
      "0         127119        130233            2.45  1987Q3\n",
      "1         129815        133288            2.68  1987Q4\n",
      "2         133283        137215            2.95  1988Q1\n",
      "3         136630        141576            3.62  1988Q2\n",
      "4         140801        145602            3.41  1988Q3\n",
      "    GDP_Real (m£)  GDP_Pot (m£)  Output_gap (%) Quarter\n",
      "77         372900        372629           -0.07  2006Q4\n",
      "78         376958        378202            0.33  2007Q1\n",
      "79         386144        387920            0.46  2007Q2\n",
      "80         389291        392366            0.79  2007Q3\n",
      "81         392244        396777            1.16  2007Q4\n"
     ]
    }
   ],
   "source": [
    "import pandas as pd\n",
    "import datetime as dt\n",
    "\n",
    "# Use the raw URL from the GitHub repository\n",
    "xlsx_url = \"https://raw.githubusercontent.com/guri99uy/ST449_Project/52611de9d475e711c4c917c4d5ca137427404612/outputgap.xlsx\"\n",
    "\n",
    "\n",
    "# Load the Excel file\n",
    "df_outputgap = pd.read_excel(xlsx_url, engine='openpyxl')  # Ensure you specify the 'openpyxl' engine for .xlsx files\n",
    "\n",
    "# Define a function to parse QQYYYY\n",
    "def parse_qqyyyy(qqyyyy):\n",
    "    # Extract the quarter and year\n",
    "    quarter = int(qqyyyy[1])\n",
    "    year = int(qqyyyy[2:])\n",
    "    \n",
    "    # Map the quarter to the first month of that quarter\n",
    "    quarter_start_month = {1: 1, 2: 4, 3: 7, 4: 10}\n",
    "    month = quarter_start_month[quarter]\n",
    "    \n",
    "    # Create a datetime object for the first day of the quarter\n",
    "    return dt.datetime(year, month, 1)\n",
    "\n",
    "# Apply the function to the first column 'QQYYYY' to convert it to datetime\n",
    "df_outputgap['QQYYYY'] = df_outputgap['QQYYYY'].apply(parse_qqyyyy)\n",
    "# Rename a single column, e.g., 'OldName' to 'NewName'\n",
    "df_outputgap.rename(columns={'QQYYYY': 'Date'}, inplace=True)\n",
    "\n",
    "#Get Date in Quarters\n",
    "df_outputgap['Date'] = pd.to_datetime(df_outputgap['Date'])\n",
    "df_outputgap['Quarter'] = df_outputgap['Date'].dt.to_period('Q')\n",
    "df_outputgap = df_outputgap.drop(columns=['Date'])\n",
    "\n",
    "df_outputgap['GDP_Pot (m£)'] = df_outputgap['GDP_Pot (m£)'].round(0).astype(int)\n",
    "df_outputgap['Output_gap (%)'] = df_outputgap['Output_gap (%)'].round(2)\n",
    "\n",
    "# Display the first few rows of the transformed DataFrame\n",
    "print(df_outputgap.head())\n",
    "print(df_outputgap.tail())"
   ]
  },
  {
   "cell_type": "markdown",
   "metadata": {},
   "source": [
    "### 2. Interest Rate\n",
    "Got .xlsx file from [Bank of Engalnd]\n",
    "https://www.bankofengland.co.uk/boeapps/database/Bank-Rate.asp\n"
   ]
  },
  {
   "cell_type": "code",
   "execution_count": 3,
   "metadata": {},
   "outputs": [
    {
     "name": "stdout",
     "output_type": "stream",
     "text": [
      "\n",
      "Every Interest rate by Bank of England:\n",
      "        Date  Interest_rate\n",
      "0 2024-11-07           4.75\n",
      "1 2024-08-01           5.00\n",
      "2 2023-08-03           5.25\n",
      "3 2023-06-22           5.00\n",
      "4 2023-05-11           4.50\n"
     ]
    }
   ],
   "source": [
    "import pandas as pd\n",
    "import datetime as dt\n",
    "\n",
    "# Raw URL of the Excel file\n",
    "url = \"https://raw.githubusercontent.com/guri99uy/ST449_Project/7715079b32be2ea0b9e2e77a3f7b81244f85720f/Bank_Rate.xlsx\"\n",
    "df_interest_rate = pd.read_excel(url, engine='openpyxl')\n",
    "\n",
    "\n",
    "# Rename columns for easier access (optional)\n",
    "df_interest_rate.columns = ['Date', 'Interest_rate']\n",
    "\n",
    "# Convert the 'Date_Changed' column to datetime format\n",
    "def parse_date(date_str):\n",
    "    # Handle the format '07 Nov 24' as 'DD MMM YY'\n",
    "    return dt.datetime.strptime(date_str, '%d %b %y')\n",
    "\n",
    "df_interest_rate['Date'] = df_interest_rate['Date'].apply(parse_date)\n",
    "\n",
    "# Check if 'Rate' column is string type, and process accordingly\n",
    "if df_interest_rate['Interest_rate'].dtype == 'object':\n",
    "    # Clean the 'Rate' column (replace commas with dots and convert to float)\n",
    "    df_interest_rate['Interest_rate'] = df_interest_rate['Rate'].str.replace(',', '.').astype(float)\n",
    "else:\n",
    "    # Ensure the 'Rate' column is numeric\n",
    "    df_interest_rate['Interest_rate'] = pd.to_numeric(df_interest_rate['Interest_rate'], errors='coerce')\n",
    "\n",
    "# Display the processed DataFrame\n",
    "print(\"\\nEvery Interest rate by Bank of England:\")\n",
    "print(df_interest_rate.head())\n",
    "\n"
   ]
  },
  {
   "cell_type": "markdown",
   "metadata": {},
   "source": [
    "Lets process the data to: \n",
    "1. Get the quarter average\n",
    "2. Assign missing quarters with the last value"
   ]
  },
  {
   "cell_type": "code",
   "execution_count": 4,
   "metadata": {},
   "outputs": [
    {
     "name": "stdout",
     "output_type": "stream",
     "text": [
      "  Quarter  Avg_Interest_Rate\n",
      "0  1987Q3              9.880\n",
      "1  1987Q4              8.880\n",
      "2  1988Q1              8.630\n",
      "3  1988Q2              8.080\n",
      "4  1988Q3             10.755\n"
     ]
    }
   ],
   "source": [
    "import pandas as pd\n",
    "\n",
    "# Assuming df_interest_rate is the DataFrame with 'Date_Changed' and 'Rate'\n",
    "# Ensure 'Date_Changed' is a datetime column\n",
    "df_interest_rate['Date'] = pd.to_datetime(df_interest_rate['Date'])\n",
    "\n",
    "# Create a column for the quarter and year as strings for grouping\n",
    "df_interest_rate['Quarter'] = df_interest_rate['Date'].dt.to_period('Q')\n",
    "\n",
    "# Group by the 'Quarter' column and calculate the average interest rate\n",
    "quarterly_avg_rate = (\n",
    "    df_interest_rate.groupby('Quarter', as_index=False)['Interest_rate']\n",
    "    .mean()\n",
    "    .rename(columns={'Interest_rate': 'Avg_Interest_Rate'})\n",
    ")\n",
    "\n",
    "full_quarters = pd.period_range('1975Q1', '2007Q4', freq='Q')\n",
    "quarterly_avg_rate['Quarter'] = pd.PeriodIndex(quarterly_avg_rate['Quarter'], freq='Q')\n",
    "quarterly_avg_rate = quarterly_avg_rate.set_index('Quarter').reindex(full_quarters)\n",
    "\n",
    "# Fill missing values with the value from the previous quarter\n",
    "quarterly_avg_rate['Avg_Interest_Rate'] = quarterly_avg_rate['Avg_Interest_Rate'].ffill()\n",
    "quarterly_avg_rate.reset_index(inplace=True)\n",
    "quarterly_avg_rate.rename(columns={'index': 'Quarter'}, inplace=True)\n",
    "\n",
    "# Filter 1997 - 2007\n",
    "Quarterly_interest_rates = quarterly_avg_rate[\n",
    "    (quarterly_avg_rate['Quarter'] >= '1987Q3') & (quarterly_avg_rate['Quarter'] <= '2007Q4')\n",
    "]\n",
    "Quarterly_interest_rates.reset_index(inplace=True)\n",
    "Quarterly_interest_rates = Quarterly_interest_rates.drop(columns=['index'])\n",
    "\n",
    "# Display\n",
    "print(Quarterly_interest_rates.head())\n",
    "\n"
   ]
  },
  {
   "cell_type": "markdown",
   "metadata": {},
   "source": [
    "### 3. Inflation\n",
    "Source?\n",
    "Relevant comments:\n"
   ]
  },
  {
   "cell_type": "code",
   "execution_count": 5,
   "metadata": {},
   "outputs": [
    {
     "name": "stdout",
     "output_type": "stream",
     "text": [
      "  Quarter  GDP Deflator  Inflation_Rate (%)\n",
      "0  1987Q3       35.8724                0.20\n",
      "1  1987Q4       36.2206                0.97\n",
      "2  1988Q1       36.5950                1.03\n",
      "3  1988Q2       37.3205                1.98\n",
      "4  1988Q3       37.9849                1.78\n"
     ]
    }
   ],
   "source": [
    "import pandas as pd\n",
    "\n",
    "# GitHub raw URL for inflation\n",
    "url = \"https://raw.githubusercontent.com/guri99uy/ST449_Project/a1a15126e784af7897ac4f44fbead11867582aa5/inf_Data.csv\"\n",
    "inflation = pd.read_csv(url)\n",
    "\n",
    "# Rename columns\n",
    "inf_data = inflation.rename(columns={\"Implied GDP deflator at market prices: SA Index\": \"GDP Deflator\"})\n",
    "inf_data.rename(columns={\"Title\": \"Quarter\"}, inplace=True)\n",
    "\n",
    "# Change Quarter format\n",
    "inf_data[\"Quarter\"] = inf_data[\"Quarter\"].str.replace(r\"(\\d{4})\\sQ(\\d)\", r\"\\1Q\\2\", regex=True)\n",
    "\n",
    "# Compute the inflation rate as the percentage change in the GDP Deflator\n",
    "inf_data['Inflation_Rate (%)'] = inf_data['GDP Deflator'].pct_change() * 100\n",
    "\n",
    "# Round the inflation rate to two decimal places\n",
    "inf_data['Inflation_Rate (%)'] = inf_data['Inflation_Rate (%)'].round(2)\n",
    "\n",
    "# Remove the first row with Quarter value '1987Q2'\n",
    "inf_data = inf_data[inf_data['Quarter'] != '1987Q2'].reset_index(drop=True)\n",
    "\n",
    "print(inf_data.head())"
   ]
  },
  {
   "cell_type": "markdown",
   "metadata": {},
   "source": [
    "### 4. Merge relevant data\n",
    "1. Output Gap\n",
    "2. Interest rate\n",
    "3. Inflation\n",
    "   "
   ]
  },
  {
   "cell_type": "code",
   "execution_count": 6,
   "metadata": {},
   "outputs": [
    {
     "name": "stdout",
     "output_type": "stream",
     "text": [
      "  Quarter  Avg_Interest_Rate  GDP_Real (m£)  GDP_Pot (m£)  Output_gap (%)  \\\n",
      "0  1987Q3              9.880         127119        130233            2.45   \n",
      "1  1987Q4              8.880         129815        133288            2.68   \n",
      "2  1988Q1              8.630         133283        137215            2.95   \n",
      "3  1988Q2              8.080         136630        141576            3.62   \n",
      "4  1988Q3             10.755         140801        145602            3.41   \n",
      "\n",
      "   GDP Deflator  Inflation_Rate (%)  \n",
      "0       35.8724                0.20  \n",
      "1       36.2206                0.97  \n",
      "2       36.5950                1.03  \n",
      "3       37.3205                1.98  \n",
      "4       37.9849                1.78  \n",
      "   Quarter  Avg_Interest_Rate  GDP_Real (m£)  GDP_Pot (m£)  Output_gap (%)  \\\n",
      "75  2006Q2               4.50         367042        366712           -0.09   \n",
      "76  2006Q3               4.75         370883        370824           -0.02   \n",
      "77  2006Q4               5.00         372900        372629           -0.07   \n",
      "78  2007Q1               5.25         376958        378202            0.33   \n",
      "79  2007Q2               5.50         386144        387920            0.46   \n",
      "\n",
      "    GDP Deflator  Inflation_Rate (%)  \n",
      "75       65.1635                1.26  \n",
      "76       65.6609                0.76  \n",
      "77       65.6670                0.01  \n",
      "78       65.7761                0.17  \n",
      "79       66.9001                1.71  \n"
     ]
    }
   ],
   "source": [
    "# Convert 'Quarter' column in all datasets to period type\n",
    "Quarterly_interest_rates['Quarter'] = pd.PeriodIndex(Quarterly_interest_rates['Quarter'], freq='Q')\n",
    "df_outputgap['Quarter'] = pd.PeriodIndex(df_outputgap['Quarter'], freq='Q')\n",
    "inf_data['Quarter'] = pd.PeriodIndex(inf_data['Quarter'], freq='Q')\n",
    "\n",
    "# Merge the datasets\n",
    "merged_df = pd.merge(Quarterly_interest_rates, df_outputgap, on='Quarter', how='inner')  # Inner join\n",
    "merged_df = pd.merge(merged_df, inf_data, on='Quarter', how='inner')  # Inner join\n",
    "\n",
    "# Display the merged DataFrame\n",
    "print(merged_df.head())\n",
    "\n",
    "\n",
    "print(merged_df.tail())"
   ]
  },
  {
   "cell_type": "markdown",
   "metadata": {},
   "source": [
    "### 5. Save Clean Data"
   ]
  },
  {
   "cell_type": "code",
   "execution_count": 7,
   "metadata": {},
   "outputs": [
    {
     "name": "stdout",
     "output_type": "stream",
     "text": [
      "\n",
      "Merged data has been saved to 'Data\\Clean_data.csv'\n"
     ]
    }
   ],
   "source": [
    "import os\n",
    "\n",
    "# Define the directory name\n",
    "data_folder = 'Data'\n",
    "\n",
    "# Create the 'Data' folder if it doesn't exist\n",
    "os.makedirs(data_folder, exist_ok=True)  # `exist_ok=True` avoids error if folder already exists\n",
    "\n",
    "# Define the path for the output CSV file\n",
    "output_file = os.path.join(data_folder, 'Clean_data.csv')\n",
    "\n",
    "# Save the merged DataFrame to CSV\n",
    "merged_df.to_csv(output_file, index=False)\n",
    "\n",
    "print(f\"\\nMerged data has been saved to '{output_file}'\")"
   ]
  }
 ],
 "metadata": {
  "kernelspec": {
   "display_name": ".venv",
   "language": "python",
   "name": "python3"
  },
  "language_info": {
   "codemirror_mode": {
    "name": "ipython",
    "version": 3
   },
   "file_extension": ".py",
   "mimetype": "text/x-python",
   "name": "python",
   "nbconvert_exporter": "python",
   "pygments_lexer": "ipython3",
   "version": "3.12.8"
  }
 },
 "nbformat": 4,
 "nbformat_minor": 4
}
