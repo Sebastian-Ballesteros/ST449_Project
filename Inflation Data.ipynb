{
 "cells": [
  {
   "cell_type": "code",
   "execution_count": 19,
   "id": "43cfc8ff-4dd3-4393-9872-f21275bb050b",
   "metadata": {},
   "outputs": [],
   "source": [
    "import pandas as pd\n",
    "\n",
    "df = pd.read_csv(\"C:/Users/DELL/Desktop/inf_Data.csv\")\n",
    "inf_data = df.rename(columns={\"Implied GDP deflator at market prices: SA Index\": \"GDP Deflator\"})"
   ]
  },
  {
   "cell_type": "code",
   "execution_count": 21,
   "id": "e9a44298-cd03-4bbb-ac4b-80366dc2dadf",
   "metadata": {},
   "outputs": [
    {
     "name": "stdout",
     "output_type": "stream",
     "text": [
      "     Title  GDP Deflator\n",
      "0  1987 Q3       35.8724\n",
      "1  1987 Q4       36.2206\n",
      "2  1988 Q1       36.5950\n",
      "3  1988 Q2       37.3205\n",
      "4  1988 Q3       37.9849\n"
     ]
    }
   ],
   "source": [
    "print(inf_data.head())"
   ]
  },
  {
   "cell_type": "code",
   "execution_count": 17,
   "id": "91f263cd-b331-4536-b012-212f99a66b5f",
   "metadata": {},
   "outputs": [
    {
     "name": "stdout",
     "output_type": "stream",
     "text": [
      "      Title  Implied GDP deflator at market prices: SA Index\n",
      "75  2006 Q2                                          65.1635\n",
      "76  2006 Q3                                          65.6609\n",
      "77  2006 Q4                                          65.6670\n",
      "78  2007 Q1                                          65.7761\n",
      "79  2007 Q2                                          66.9001\n"
     ]
    }
   ],
   "source": [
    "print(inf_data.tail())"
   ]
  },
  {
   "cell_type": "code",
   "execution_count": null,
   "id": "15722990-c76c-4c73-be8a-953074078d24",
   "metadata": {},
   "outputs": [],
   "source": []
  }
 ],
 "metadata": {
  "kernelspec": {
   "display_name": "Python 3 (ipykernel)",
   "language": "python",
   "name": "python3"
  },
  "language_info": {
   "codemirror_mode": {
    "name": "ipython",
    "version": 3
   },
   "file_extension": ".py",
   "mimetype": "text/x-python",
   "name": "python",
   "nbconvert_exporter": "python",
   "pygments_lexer": "ipython3",
   "version": "3.12.4"
  }
 },
 "nbformat": 4,
 "nbformat_minor": 5
}
