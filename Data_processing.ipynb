{
 "cells": [
  {
   "cell_type": "markdown",
   "metadata": {},
   "source": [
    "# Packages and libraries"
   ]
  },
  {
   "cell_type": "code",
   "execution_count": 33,
   "metadata": {},
   "outputs": [
    {
     "name": "stdout",
     "output_type": "stream",
     "text": [
      "Requirement already satisfied: numpy in c:\\users\\gerva\\anaconda3\\lib\\site-packages (1.26.4)\n",
      "Requirement already satisfied: pandas in c:\\users\\gerva\\anaconda3\\lib\\site-packages (2.2.2)\n",
      "Requirement already satisfied: python-dateutil>=2.8.2 in c:\\users\\gerva\\anaconda3\\lib\\site-packages (from pandas) (2.9.0.post0)\n",
      "Requirement already satisfied: pytz>=2020.1 in c:\\users\\gerva\\anaconda3\\lib\\site-packages (from pandas) (2024.1)\n",
      "Requirement already satisfied: tzdata>=2022.7 in c:\\users\\gerva\\anaconda3\\lib\\site-packages (from pandas) (2023.3)\n",
      "Requirement already satisfied: six>=1.5 in c:\\users\\gerva\\anaconda3\\lib\\site-packages (from python-dateutil>=2.8.2->pandas) (1.16.0)\n"
     ]
    }
   ],
   "source": [
    "!pip install numpy pandas "
   ]
  },
  {
   "cell_type": "code",
   "execution_count": 34,
   "metadata": {},
   "outputs": [],
   "source": [
    "import pandas as pd\n",
    "import datetime as dt"
   ]
  },
  {
   "cell_type": "markdown",
   "metadata": {},
   "source": [
    "## Data Scrapping"
   ]
  },
  {
   "cell_type": "markdown",
   "metadata": {},
   "source": [
    "### 1. Output Gap Data extraction\n",
    "\n",
    "First we got the quarterly GDP for the period [Office for National Statistics](https://www.ons.gov.uk/economy/grossdomesticproductgdp/timeseries/ybha/qna)\n",
    "\n",
    "WE got the yearly output gap [Office for Budget Responsibility (OBR)](https://obr.uk/public-finances-databank-2024-25/)\n",
    "\n",
    "Using the quarterly estimates developed [OBR: Output gap measurement: judgement and uncertainty](https://obr.uk/docs/dlm_uploads/WorkingPaperNo5.pdf) \n",
    "\n"
   ]
  },
  {
   "cell_type": "code",
   "execution_count": 37,
   "metadata": {},
   "outputs": [
    {
     "name": "stdout",
     "output_type": "stream",
     "text": [
      "   GDP_Real (m£)  GDP_Pot (m£)  Output_gap (%) Quarter\n",
      "0         127119        130233            2.45  1987Q3\n",
      "1         129815        133288            2.68  1987Q4\n",
      "2         133283        137215            2.95  1988Q1\n",
      "3         136630        141576            3.62  1988Q2\n",
      "4         140801        145602            3.41  1988Q3\n"
     ]
    }
   ],
   "source": [
    "# Use the raw URL from the GitHub repository\n",
    "xlsx_url = \"https://raw.githubusercontent.com/guri99uy/ST449_Project/52611de9d475e711c4c917c4d5ca137427404612/outputgap.xlsx\"\n",
    "\n",
    "df_outputgap = pd.read_excel(xlsx_url, engine='openpyxl') \n",
    "\n",
    "# Aux function for formatting\n",
    "def parse_qqyyyy(qqyyyy):\n",
    "    quarter = int(qqyyyy[1])\n",
    "    year = int(qqyyyy[2:])\n",
    "    # Map the quarter to the first month of that quarter\n",
    "    quarter_start_month = {1: 1, 2: 4, 3: 7, 4: 10}\n",
    "    month = quarter_start_month[quarter]\n",
    "\n",
    "    return dt.datetime(year, month, 1)\n",
    "\n",
    "\n",
    "df_outputgap['QQYYYY'] = df_outputgap['QQYYYY'].apply(parse_qqyyyy)\n",
    "df_outputgap.rename(columns={'QQYYYY': 'Date'}, inplace=True)\n",
    "\n",
    "#Get Date in Quarters\n",
    "df_outputgap['Date'] = pd.to_datetime(df_outputgap['Date'])\n",
    "df_outputgap['Quarter'] = df_outputgap['Date'].dt.to_period('Q')\n",
    "df_outputgap = df_outputgap.drop(columns=['Date'])\n",
    "df_outputgap['GDP_Pot (m£)'] = df_outputgap['GDP_Pot (m£)'].round(0).astype(int)\n",
    "df_outputgap['Output_gap (%)'] = df_outputgap['Output_gap (%)'].round(2)\n",
    "print(df_outputgap.head())"
   ]
  },
  {
   "cell_type": "markdown",
   "metadata": {},
   "source": [
    "### 2. Interest Rate\n",
    "Got .xlsx file from [Bank of Engalnd](https://www.bankofengland.co.uk/boeapps/database/Bank-Rate.asp)\n",
    "\n",
    "Lets process the data to: \n",
    "1. Get the quarter average\n",
    "2. Assign missing quarters with the last value"
   ]
  },
  {
   "cell_type": "code",
   "execution_count": 39,
   "metadata": {},
   "outputs": [
    {
     "name": "stdout",
     "output_type": "stream",
     "text": [
      "  Quarter  Avg_Interest_Rate\n",
      "0  1987Q3              9.880\n",
      "1  1987Q4              8.880\n",
      "2  1988Q1              8.630\n",
      "3  1988Q2              8.080\n",
      "4  1988Q3             10.755\n"
     ]
    }
   ],
   "source": [
    "# Use the raw URL from the GitHub repository\n",
    "url = \"https://raw.githubusercontent.com/guri99uy/ST449_Project/7715079b32be2ea0b9e2e77a3f7b81244f85720f/Bank_Rate.xlsx\"\n",
    "df_interest_rate = pd.read_excel(url, engine='openpyxl')\n",
    "df_interest_rate.columns = ['Date', 'Interest_rate']\n",
    "\n",
    "# Aux function for formatting\n",
    "def parse_date(date_str):\n",
    "    # Handle the format '07 Nov 24'\n",
    "    return dt.datetime.strptime(date_str, '%d %b %y')\n",
    "\n",
    "df_interest_rate['Date'] = df_interest_rate['Date'].apply(parse_date)\n",
    "\n",
    "\n",
    "if df_interest_rate['Interest_rate'].dtype == 'object':\n",
    "    df_interest_rate['Interest_rate'] = df_interest_rate['Rate'].str.replace(',', '.').astype(float)\n",
    "else:\n",
    "    df_interest_rate['Interest_rate'] = pd.to_numeric(df_interest_rate['Interest_rate'], errors='coerce')\n",
    "\n",
    "df_interest_rate['Date'] = pd.to_datetime(df_interest_rate['Date'])\n",
    "df_interest_rate['Quarter'] = df_interest_rate['Date'].dt.to_period('Q')\n",
    "\n",
    "# Group by the Quarter\n",
    "quarterly_avg_rate = (\n",
    "    df_interest_rate.groupby('Quarter', as_index=False)['Interest_rate']\n",
    "    .mean()\n",
    "    .rename(columns={'Interest_rate': 'Avg_Interest_Rate'})\n",
    ")\n",
    "\n",
    "full_quarters = pd.period_range('1975Q1', '2007Q4', freq='Q')\n",
    "quarterly_avg_rate['Quarter'] = pd.PeriodIndex(quarterly_avg_rate['Quarter'], freq='Q')\n",
    "quarterly_avg_rate = quarterly_avg_rate.set_index('Quarter').reindex(full_quarters)\n",
    "\n",
    "# Fill missing values with the value from the previous quarter\n",
    "quarterly_avg_rate['Avg_Interest_Rate'] = quarterly_avg_rate['Avg_Interest_Rate'].ffill()\n",
    "quarterly_avg_rate.reset_index(inplace=True)\n",
    "quarterly_avg_rate.rename(columns={'index': 'Quarter'}, inplace=True)\n",
    "\n",
    "Quarterly_interest_rates = quarterly_avg_rate[\n",
    "    (quarterly_avg_rate['Quarter'] >= '1987Q3') & (quarterly_avg_rate['Quarter'] <= '2007Q4')\n",
    "]\n",
    "Quarterly_interest_rates.reset_index(inplace=True)\n",
    "Quarterly_interest_rates = Quarterly_interest_rates.drop(columns=['index'])\n",
    "print(Quarterly_interest_rates.head())"
   ]
  },
  {
   "cell_type": "markdown",
   "metadata": {},
   "source": [
    "### 3. Inflation\n",
    "\n"
   ]
  },
  {
   "cell_type": "code",
   "execution_count": 41,
   "metadata": {},
   "outputs": [
    {
     "name": "stdout",
     "output_type": "stream",
     "text": [
      "  Quarter  GDP Deflator  Inflation_Rate (%)\n",
      "0  1987Q3       35.8724                0.20\n",
      "1  1987Q4       36.2206                0.97\n",
      "2  1988Q1       36.5950                1.03\n",
      "3  1988Q2       37.3205                1.98\n",
      "4  1988Q3       37.9849                1.78\n"
     ]
    }
   ],
   "source": [
    "# GitHub raw URL for inflation\n",
    "url = \"https://raw.githubusercontent.com/guri99uy/ST449_Project/a1a15126e784af7897ac4f44fbead11867582aa5/inf_Data.csv\"\n",
    "inflation = pd.read_csv(url)\n",
    "inf_data = inflation.rename(columns={\"Implied GDP deflator at market prices: SA Index\": \"GDP Deflator\"})\n",
    "inf_data.rename(columns={\"Title\": \"Quarter\"}, inplace=True)\n",
    "inf_data[\"Quarter\"] = inf_data[\"Quarter\"].str.replace(r\"(\\d{4})\\sQ(\\d)\", r\"\\1Q\\2\", regex=True)\n",
    "\n",
    "# Compute the inflation rate as the percentage change in the GDP Deflator\n",
    "inf_data['Inflation_Rate (%)'] = inf_data['GDP Deflator'].pct_change() * 100\n",
    "inf_data['Inflation_Rate (%)'] = inf_data['Inflation_Rate (%)'].round(2)\n",
    "\n",
    "# Remove the first row with Quarter value '1987Q2'\n",
    "inf_data = inf_data[inf_data['Quarter'] != '1987Q2'].reset_index(drop=True)\n",
    "\n",
    "print(inf_data.head())"
   ]
  },
  {
   "cell_type": "markdown",
   "metadata": {},
   "source": [
    "### 4. Merge relevant data\n",
    "1. Output Gap\n",
    "2. Interest rate\n",
    "3. Inflation\n",
    "   "
   ]
  },
  {
   "cell_type": "code",
   "execution_count": 43,
   "metadata": {},
   "outputs": [
    {
     "name": "stdout",
     "output_type": "stream",
     "text": [
      "  Quarter  Avg_Interest_Rate  GDP_Real (m£)  GDP_Pot (m£)  Output_gap (%)  \\\n",
      "0  1987Q3              9.880         127119        130233            2.45   \n",
      "1  1987Q4              8.880         129815        133288            2.68   \n",
      "2  1988Q1              8.630         133283        137215            2.95   \n",
      "3  1988Q2              8.080         136630        141576            3.62   \n",
      "4  1988Q3             10.755         140801        145602            3.41   \n",
      "\n",
      "   GDP Deflator  Inflation_Rate (%)  \n",
      "0       35.8724                0.20  \n",
      "1       36.2206                0.97  \n",
      "2       36.5950                1.03  \n",
      "3       37.3205                1.98  \n",
      "4       37.9849                1.78  \n"
     ]
    }
   ],
   "source": [
    "# Format all df\n",
    "Quarterly_interest_rates['Quarter'] = pd.PeriodIndex(Quarterly_interest_rates['Quarter'], freq='Q')\n",
    "df_outputgap['Quarter'] = pd.PeriodIndex(df_outputgap['Quarter'], freq='Q')\n",
    "inf_data['Quarter'] = pd.PeriodIndex(inf_data['Quarter'], freq='Q')\n",
    "\n",
    "# Merge the datasets\n",
    "merged_df = pd.merge(Quarterly_interest_rates, df_outputgap, on='Quarter', how='inner')  # Inner join\n",
    "merged_df = pd.merge(merged_df, inf_data, on='Quarter', how='inner')  # Inner join\n",
    "\n",
    "# Display the merged DataFrame\n",
    "print(merged_df.head())\n",
    "\n"
   ]
  },
  {
   "cell_type": "markdown",
   "metadata": {},
   "source": [
    "### 5. Save Clean Data"
   ]
  },
  {
   "cell_type": "code",
   "execution_count": 45,
   "metadata": {},
   "outputs": [
    {
     "name": "stdout",
     "output_type": "stream",
     "text": [
      "\n",
      "Merged data has been saved to 'Data\\Clean_data.csv'\n"
     ]
    }
   ],
   "source": [
    "data_folder = 'Data'\n",
    "\n",
    "# Create the 'Data' folder \n",
    "os.makedirs(data_folder, exist_ok=True)  # `exist_ok=True` avoids error if folder already exists\n",
    "\n",
    "\n",
    "output_file = os.path.join(data_folder, 'Clean_data.csv')\n",
    "merged_df.to_csv(output_file, index=False)\n",
    "\n",
    "print(f\"\\nMerged data has been saved to '{output_file}'\")"
   ]
  }
 ],
 "metadata": {
  "kernelspec": {
   "display_name": "Python 3 (ipykernel)",
   "language": "python",
   "name": "python3"
  },
  "language_info": {
   "codemirror_mode": {
    "name": "ipython",
    "version": 3
   },
   "file_extension": ".py",
   "mimetype": "text/x-python",
   "name": "python",
   "nbconvert_exporter": "python",
   "pygments_lexer": "ipython3",
   "version": "3.12.4"
  }
 },
 "nbformat": 4,
 "nbformat_minor": 4
}
